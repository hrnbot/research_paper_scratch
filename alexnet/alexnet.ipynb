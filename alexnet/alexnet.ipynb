{
 "cells": [
  {
   "cell_type": "code",
   "execution_count": 1,
   "metadata": {},
   "outputs": [
    {
     "name": "stderr",
     "output_type": "stream",
     "text": [
      "c:\\Users\\hiren\\Anaconda3\\envs\\yolo\\lib\\site-packages\\tqdm\\auto.py:21: TqdmWarning: IProgress not found. Please update jupyter and ipywidgets. See https://ipywidgets.readthedocs.io/en/stable/user_install.html\n",
      "  from .autonotebook import tqdm as notebook_tqdm\n"
     ]
    }
   ],
   "source": [
    "import torch\n",
    "import numpy as np"
   ]
  },
  {
   "cell_type": "code",
   "execution_count": 2,
   "metadata": {},
   "outputs": [],
   "source": [
    "#Implement Alexnet model\n",
    "class Alexnet(torch.nn.Module):\n",
    "    def __init__(self,in_channels = 3,num_classes = 1000):\n",
    "        super().__init__()\n",
    "        self.conv1 = torch.nn.Conv2d(in_channels = in_channels,out_channels = 96,kernel_size = 11,stride = 4,padding = 0)\n",
    "        self.maxpool1 = torch.nn.MaxPool2d(kernel_size = 3,stride = 2,padding = 0)\n",
    "        self.normlocal = torch.nn.LocalResponseNorm(size = 5,alpha = 0.0001,beta = 0.75,k = 2)\n",
    "        self.conv2 = torch.nn.Conv2d(in_channels = 96,out_channels = 256,kernel_size = 5,stride = 1,padding = 2)\n",
    "        self.conv3 = torch.nn.Conv2d(in_channels = 256,out_channels = 384,kernel_size = 3,stride = 1,padding = 1)\n",
    "        self.conv4 = torch.nn.Conv2d(in_channels = 384,out_channels = 384,kernel_size = 3,stride = 1,padding = 1)\n",
    "        self.conv5 = torch.nn.Conv2d(in_channels = 384,out_channels = 256,kernel_size = 3,stride = 1,padding = 1)\n",
    "        self.dense1 = torch.nn.Linear(in_features = 9216,out_features = 4096)\n",
    "        self.dense2 = torch.nn.Linear(in_features = 4096,out_features = 4096)\n",
    "        self.dense3 = torch.nn.Linear(in_features = 4096,out_features = num_classes)\n",
    "        self.dropout = torch.nn.Dropout(p = 0.5)\n",
    "        self.flatten = torch.nn.Flatten()\n",
    "        self.relu = torch.nn.ReLU()\n",
    "        # \n",
    "    # def OverlappingMaxPool2d(kernel_size,stride,padding):\n",
    "        \n",
    "        \n",
    "    \n",
    "    # def forward(self,x):\n",
    "    #     result = self.conv1(x)\n",
    "    #     result = self.relu(result)\n",
    "    #     result = self.normlocal(result)\n",
    "    #     result = self.maxpool1(result)\n",
    "    #     result = self.conv2(result)\n",
    "    #     result = self.relu(result)\n",
    "    #     result = self.normlocal(result)\n",
    "    #     result = self.maxpool1(result)\n",
    "    #     result = self.conv3(result)\n",
    "    #     result = self.relu(result)\n",
    "    #     result = self.conv4(result)\n",
    "    #     result = self.relu(result)\n",
    "    #     result = self.conv5(result)\n",
    "    #     result = self.relu(result)\n",
    "    #     result = self.maxpool1(result)\n",
    "    #     # result = self.flatten(result)\n",
    "    #     # result = result.view(result.size(0),-1)\n",
    "    #     result = self.flatten(result)\n",
    "    #     result = self.dense1(result)\n",
    "    #     result = self.relu(result)\n",
    "    #     result = self.dropout(result)\n",
    "    #     result = self.dense2(result)\n",
    "    #     result = self.relu(result)\n",
    "    #     result = self.dropout(result)\n",
    "    #     result = self.dense3(result)\n",
    "    #     result = torch.nn.functional.softmax(result,dim = 1)\n",
    "    #     return result\n",
    "    \n",
    "    def forward(self,x):\n",
    "        return torch.nn.functional.softmax(self.dense3(self.dropout(self.relu(self.dense2(self.dropout(\n",
    "            self.relu(self.dense1(self.flatten(self.maxpool1(self.relu(self.conv5(self.relu(\n",
    "                self.conv4(self.relu(self.conv3(self.maxpool1(self.normlocal(self.relu(self.conv2(\n",
    "                    self.maxpool1(self.normlocal(self.relu(self.conv1(x))))))))))))))))))))))),dim = 1)\n"
   ]
  },
  {
   "cell_type": "code",
   "execution_count": null,
   "metadata": {},
   "outputs": [],
   "source": []
  },
  {
   "cell_type": "code",
   "execution_count": 3,
   "metadata": {},
   "outputs": [
    {
     "name": "stdout",
     "output_type": "stream",
     "text": [
      "Files already downloaded and verified\n",
      "Files already downloaded and verified\n"
     ]
    }
   ],
   "source": [
    "import torchvision\n",
    "from torchvision import transforms\n",
    "\n",
    "transform_data = torchvision.transforms.Compose([\n",
    "    # transforms.RandomResizedCrop(227, scale=(0.9, 1.0), ratio=(0.9, 1.1)),\n",
    "    # transforms.RandomHorizontalFlip(),\n",
    "    transforms.Resize((227,227)),\n",
    "    transforms.ToTensor(),\n",
    "    transforms.Normalize(mean = [0.485,0.456,0.406],std = [0.229,0.224,0.225])\n",
    "])\n",
    "\n",
    "train_dataset = torchvision.datasets.CIFAR10(root = 'data',train = True,transform = transform_data,download = True)\n",
    "test_dataset = torchvision.datasets.CIFAR10(root = 'data',train = False,transform = transform_data,download = True)\n"
   ]
  },
  {
   "cell_type": "code",
   "execution_count": 4,
   "metadata": {},
   "outputs": [
    {
     "name": "stderr",
     "output_type": "stream",
     "text": [
      "100%|██████████| 65/65 [01:15<00:00,  1.16s/it]\n",
      "100%|██████████| 65/65 [00:43<00:00,  1.49it/s]\n",
      "  1%|          | 1/100 [01:58<3:16:02, 118.81s/it]"
     ]
    },
    {
     "name": "stdout",
     "output_type": "stream",
     "text": [
      "Epoch: 0, Train Loss: 2.2981041321387656, Train Acc: 0.12946252822875975, Test Loss: 2.2730896693009597, Test Acc: 0.15894970848010137\n"
     ]
    },
    {
     "name": "stderr",
     "output_type": "stream",
     "text": [
      "100%|██████████| 65/65 [01:10<00:00,  1.08s/it]\n",
      "100%|██████████| 65/65 [00:43<00:00,  1.48it/s]\n",
      "  2%|▏         | 2/100 [03:53<3:09:37, 116.09s/it]"
     ]
    },
    {
     "name": "stdout",
     "output_type": "stream",
     "text": [
      "Epoch: 1, Train Loss: 2.2273879784804125, Train Acc: 0.22411242998563327, Test Loss: 2.1913400870103104, Test Acc: 0.2539447763791451\n"
     ]
    },
    {
     "name": "stderr",
     "output_type": "stream",
     "text": [
      "100%|██████████| 65/65 [01:11<00:00,  1.10s/it]\n",
      "100%|██████████| 65/65 [00:42<00:00,  1.53it/s]\n",
      "  3%|▎         | 3/100 [05:46<3:06:02, 115.07s/it]"
     ]
    },
    {
     "name": "stdout",
     "output_type": "stream",
     "text": [
      "Epoch: 2, Train Loss: 2.1847256036905143, Train Acc: 0.26518738223956184, Test Loss: 2.1777020711165207, Test Acc: 0.2703402413771703\n"
     ]
    },
    {
     "name": "stderr",
     "output_type": "stream",
     "text": [
      "100%|██████████| 65/65 [01:13<00:00,  1.13s/it]\n",
      "100%|██████████| 65/65 [00:43<00:00,  1.49it/s]\n",
      "  4%|▍         | 4/100 [07:43<3:05:21, 115.85s/it]"
     ]
    },
    {
     "name": "stdout",
     "output_type": "stream",
     "text": [
      "Epoch: 3, Train Loss: 2.1732097515693076, Train Acc: 0.27292899718651403, Test Loss: 2.163113594055176, Test Acc: 0.28306213388076196\n"
     ]
    },
    {
     "name": "stderr",
     "output_type": "stream",
     "text": [
      "100%|██████████| 65/65 [01:14<00:00,  1.14s/it]\n",
      "100%|██████████| 65/65 [00:43<00:00,  1.49it/s]\n",
      "  5%|▌         | 5/100 [09:41<3:04:40, 116.64s/it]"
     ]
    },
    {
     "name": "stdout",
     "output_type": "stream",
     "text": [
      "Epoch: 4, Train Loss: 2.1593299572284406, Train Acc: 0.2884368868974539, Test Loss: 2.1459695962759167, Test Acc: 0.30717455882292527\n"
     ]
    },
    {
     "name": "stderr",
     "output_type": "stream",
     "text": [
      "100%|██████████| 65/65 [01:13<00:00,  1.14s/it]\n",
      "100%|██████████| 65/65 [00:43<00:00,  1.50it/s]\n",
      "  6%|▌         | 6/100 [11:39<3:02:58, 116.80s/it]"
     ]
    },
    {
     "name": "stdout",
     "output_type": "stream",
     "text": [
      "Epoch: 5, Train Loss: 2.1515845152047963, Train Acc: 0.3001232779943026, Test Loss: 2.1380163192749024, Test Acc: 0.31826923535420343\n"
     ]
    },
    {
     "name": "stderr",
     "output_type": "stream",
     "text": [
      "100%|██████████| 65/65 [01:15<00:00,  1.16s/it]\n",
      "100%|██████████| 65/65 [00:43<00:00,  1.50it/s]\n",
      "  7%|▋         | 7/100 [13:37<3:01:56, 117.38s/it]"
     ]
    },
    {
     "name": "stdout",
     "output_type": "stream",
     "text": [
      "Epoch: 6, Train Loss: 2.1360230409182037, Train Acc: 0.318786985369829, Test Loss: 2.1300473506634052, Test Acc: 0.32241124556614803\n"
     ]
    },
    {
     "name": "stderr",
     "output_type": "stream",
     "text": [
      "100%|██████████| 65/65 [01:14<00:00,  1.14s/it]\n",
      "100%|██████████| 65/65 [00:44<00:00,  1.46it/s]\n",
      "  8%|▊         | 8/100 [15:36<3:00:39, 117.82s/it]"
     ]
    },
    {
     "name": "stdout",
     "output_type": "stream",
     "text": [
      "Epoch: 7, Train Loss: 2.1295055792881894, Train Acc: 0.3252712048017062, Test Loss: 2.1224397255824163, Test Acc: 0.33030079282247105\n"
     ]
    },
    {
     "name": "stderr",
     "output_type": "stream",
     "text": [
      "100%|██████████| 65/65 [01:14<00:00,  1.15s/it]\n",
      "100%|██████████| 65/65 [00:43<00:00,  1.48it/s]\n",
      "  9%|▉         | 9/100 [17:34<2:59:04, 118.07s/it]"
     ]
    },
    {
     "name": "stdout",
     "output_type": "stream",
     "text": [
      "Epoch: 8, Train Loss: 2.127167532994197, Train Acc: 0.32583826528145715, Test Loss: 2.1166273703941934, Test Acc: 0.33656312089699963\n"
     ]
    },
    {
     "name": "stderr",
     "output_type": "stream",
     "text": [
      "100%|██████████| 65/65 [01:15<00:00,  1.16s/it]\n",
      "100%|██████████| 65/65 [00:43<00:00,  1.48it/s]\n",
      " 10%|█         | 10/100 [19:34<2:57:33, 118.38s/it]"
     ]
    },
    {
     "name": "stdout",
     "output_type": "stream",
     "text": [
      "Epoch: 9, Train Loss: 2.1157475361457236, Train Acc: 0.3360207117520846, Test Loss: 2.1109133573678824, Test Acc: 0.3451183442886059\n"
     ]
    },
    {
     "name": "stderr",
     "output_type": "stream",
     "text": [
      "100%|██████████| 65/65 [01:15<00:00,  1.16s/it]\n",
      "100%|██████████| 65/65 [00:44<00:00,  1.47it/s]\n",
      " 11%|█         | 11/100 [21:33<2:56:16, 118.84s/it]"
     ]
    },
    {
     "name": "stdout",
     "output_type": "stream",
     "text": [
      "Epoch: 10, Train Loss: 2.112165740820078, Train Acc: 0.34151874001209553, Test Loss: 2.099497415469243, Test Acc: 0.3572238669945644\n"
     ]
    },
    {
     "name": "stderr",
     "output_type": "stream",
     "text": [
      "100%|██████████| 65/65 [01:14<00:00,  1.15s/it]\n",
      "100%|██████████| 65/65 [00:43<00:00,  1.49it/s]\n",
      " 12%|█▏        | 12/100 [23:32<2:54:06, 118.71s/it]"
     ]
    },
    {
     "name": "stdout",
     "output_type": "stream",
     "text": [
      "Epoch: 11, Train Loss: 2.1055027374854456, Train Acc: 0.3486193326803354, Test Loss: 2.1039497375488283, Test Acc: 0.3526134151678819\n"
     ]
    },
    {
     "name": "stderr",
     "output_type": "stream",
     "text": [
      "100%|██████████| 65/65 [01:15<00:00,  1.16s/it]\n",
      "100%|██████████| 65/65 [00:44<00:00,  1.46it/s]\n",
      " 13%|█▎        | 13/100 [25:32<2:52:40, 119.08s/it]"
     ]
    },
    {
     "name": "stdout",
     "output_type": "stream",
     "text": [
      "Epoch: 12, Train Loss: 2.1018996495466964, Train Acc: 0.350271206177198, Test Loss: 2.0947691330542932, Test Acc: 0.357988166809082\n"
     ]
    },
    {
     "name": "stderr",
     "output_type": "stream",
     "text": [
      "100%|██████████| 65/65 [01:15<00:00,  1.16s/it]\n",
      "100%|██████████| 65/65 [00:45<00:00,  1.42it/s]\n",
      " 14%|█▍        | 14/100 [27:33<2:51:30, 119.66s/it]"
     ]
    },
    {
     "name": "stdout",
     "output_type": "stream",
     "text": [
      "Epoch: 13, Train Loss: 2.0982845673194297, Train Acc: 0.3571499045078571, Test Loss: 2.09219006391672, Test Acc: 0.36259862046975355\n"
     ]
    },
    {
     "name": "stderr",
     "output_type": "stream",
     "text": [
      "100%|██████████| 65/65 [01:15<00:00,  1.16s/it]\n",
      "100%|██████████| 65/65 [00:44<00:00,  1.45it/s]\n",
      " 15%|█▌        | 15/100 [29:33<2:49:48, 119.87s/it]"
     ]
    },
    {
     "name": "stdout",
     "output_type": "stream",
     "text": [
      "Epoch: 14, Train Loss: 2.0877961012033315, Train Acc: 0.36821992305608897, Test Loss: 2.0838082221838143, Test Acc: 0.3726824489923624\n"
     ]
    },
    {
     "name": "stderr",
     "output_type": "stream",
     "text": [
      "100%|██████████| 65/65 [01:15<00:00,  1.16s/it]\n",
      "100%|██████████| 65/65 [00:44<00:00,  1.45it/s]\n",
      " 16%|█▌        | 16/100 [31:33<2:47:53, 119.93s/it]"
     ]
    },
    {
     "name": "stdout",
     "output_type": "stream",
     "text": [
      "Epoch: 15, Train Loss: 2.080796458170964, Train Acc: 0.3761587775670565, Test Loss: 2.075433435806861, Test Acc: 0.3821745597399198\n"
     ]
    },
    {
     "name": "stderr",
     "output_type": "stream",
     "text": [
      "100%|██████████| 65/65 [01:15<00:00,  1.16s/it]\n",
      "100%|██████████| 65/65 [00:45<00:00,  1.44it/s]\n",
      " 17%|█▋        | 17/100 [33:33<2:46:01, 120.02s/it]"
     ]
    },
    {
     "name": "stdout",
     "output_type": "stream",
     "text": [
      "Epoch: 16, Train Loss: 2.0801420835348274, Train Acc: 0.37549309868078967, Test Loss: 2.069723547421969, Test Acc: 0.38710552499844475\n"
     ]
    },
    {
     "name": "stderr",
     "output_type": "stream",
     "text": [
      "100%|██████████| 65/65 [01:15<00:00,  1.16s/it]\n",
      "100%|██████████| 65/65 [00:44<00:00,  1.46it/s]\n",
      " 18%|█▊        | 18/100 [35:34<2:44:03, 120.04s/it]"
     ]
    },
    {
     "name": "stdout",
     "output_type": "stream",
     "text": [
      "Epoch: 17, Train Loss: 2.072081873967097, Train Acc: 0.3838757418669187, Test Loss: 2.067087349524865, Test Acc: 0.38932446057979875\n"
     ]
    },
    {
     "name": "stderr",
     "output_type": "stream",
     "text": [
      "100%|██████████| 65/65 [01:15<00:00,  1.17s/it]\n",
      "100%|██████████| 65/65 [00:46<00:00,  1.41it/s]\n",
      " 19%|█▉        | 19/100 [37:36<2:42:54, 120.67s/it]"
     ]
    },
    {
     "name": "stdout",
     "output_type": "stream",
     "text": [
      "Epoch: 18, Train Loss: 2.0680307920162493, Train Acc: 0.3907544401975778, Test Loss: 2.0638578451596774, Test Acc: 0.3909516806785877\n"
     ]
    },
    {
     "name": "stderr",
     "output_type": "stream",
     "text": [
      "100%|██████████| 65/65 [01:15<00:00,  1.16s/it]\n",
      "100%|██████████| 65/65 [00:45<00:00,  1.43it/s]\n",
      " 20%|██        | 20/100 [39:37<2:41:03, 120.80s/it]"
     ]
    },
    {
     "name": "stdout",
     "output_type": "stream",
     "text": [
      "Epoch: 19, Train Loss: 2.061099940079909, Train Acc: 0.39654832711586585, Test Loss: 2.068897302334125, Test Acc: 0.3857002006127284\n"
     ]
    },
    {
     "name": "stderr",
     "output_type": "stream",
     "text": [
      "100%|██████████| 65/65 [01:15<00:00,  1.16s/it]\n",
      "100%|██████████| 65/65 [00:44<00:00,  1.45it/s]\n",
      " 21%|██        | 21/100 [41:37<2:38:46, 120.58s/it]"
     ]
    },
    {
     "name": "stdout",
     "output_type": "stream",
     "text": [
      "Epoch: 20, Train Loss: 2.064245787033668, Train Acc: 0.39395957038952756, Test Loss: 2.063431948881883, Test Acc: 0.39280079282247105\n"
     ]
    },
    {
     "name": "stderr",
     "output_type": "stream",
     "text": [
      "100%|██████████| 65/65 [01:15<00:00,  1.16s/it]\n",
      "100%|██████████| 65/65 [00:46<00:00,  1.41it/s]\n",
      " 22%|██▏       | 22/100 [43:39<2:37:12, 120.93s/it]"
     ]
    },
    {
     "name": "stdout",
     "output_type": "stream",
     "text": [
      "Epoch: 21, Train Loss: 2.0591955294975866, Train Acc: 0.39482248975680423, Test Loss: 2.0610042920479406, Test Acc: 0.3962524716670697\n"
     ]
    },
    {
     "name": "stderr",
     "output_type": "stream",
     "text": [
      "100%|██████████| 65/65 [01:15<00:00,  1.16s/it]\n",
      "100%|██████████| 65/65 [00:46<00:00,  1.41it/s]\n",
      " 23%|██▎       | 23/100 [45:40<2:35:27, 121.14s/it]"
     ]
    },
    {
     "name": "stdout",
     "output_type": "stream",
     "text": [
      "Epoch: 22, Train Loss: 2.057210003412687, Train Acc: 0.4008136144051185, Test Loss: 2.068799743285546, Test Acc: 0.3869575968155494\n"
     ]
    },
    {
     "name": "stderr",
     "output_type": "stream",
     "text": [
      "100%|██████████| 65/65 [01:15<00:00,  1.16s/it]\n",
      "100%|██████████| 65/65 [00:45<00:00,  1.42it/s]\n",
      " 24%|██▍       | 24/100 [47:42<2:33:32, 121.21s/it]"
     ]
    },
    {
     "name": "stdout",
     "output_type": "stream",
     "text": [
      "Epoch: 23, Train Loss: 2.0529215592604415, Train Acc: 0.4047090777984032, Test Loss: 2.0614737033843995, Test Acc: 0.3953648956922384\n"
     ]
    },
    {
     "name": "stderr",
     "output_type": "stream",
     "text": [
      "100%|██████████| 65/65 [01:16<00:00,  1.17s/it]\n",
      "100%|██████████| 65/65 [00:45<00:00,  1.42it/s]\n",
      " 25%|██▌       | 25/100 [49:44<2:31:47, 121.43s/it]"
     ]
    },
    {
     "name": "stdout",
     "output_type": "stream",
     "text": [
      "Epoch: 24, Train Loss: 2.042217907538781, Train Acc: 0.41841716720507693, Test Loss: 2.049120730620164, Test Acc: 0.40421598232709444\n"
     ]
    },
    {
     "name": "stderr",
     "output_type": "stream",
     "text": [
      "100%|██████████| 65/65 [01:16<00:00,  1.17s/it]\n",
      "100%|██████████| 65/65 [00:46<00:00,  1.39it/s]\n",
      " 26%|██▌       | 26/100 [51:47<2:30:22, 121.93s/it]"
     ]
    },
    {
     "name": "stdout",
     "output_type": "stream",
     "text": [
      "Epoch: 25, Train Loss: 2.042105053021358, Train Acc: 0.4158037511202005, Test Loss: 2.0359562103564923, Test Acc: 0.42366864543694716\n"
     ]
    },
    {
     "name": "stderr",
     "output_type": "stream",
     "text": [
      "100%|██████████| 65/65 [01:15<00:00,  1.16s/it]\n",
      "100%|██████████| 65/65 [00:47<00:00,  1.38it/s]\n",
      " 27%|██▋       | 27/100 [53:49<2:28:39, 122.18s/it]"
     ]
    },
    {
     "name": "stdout",
     "output_type": "stream",
     "text": [
      "Epoch: 26, Train Loss: 2.0421624513772816, Train Acc: 0.4161489216180948, Test Loss: 2.0339592401797955, Test Acc: 0.42500000779445357\n"
     ]
    },
    {
     "name": "stderr",
     "output_type": "stream",
     "text": [
      "100%|██████████| 65/65 [01:15<00:00,  1.16s/it]\n",
      "100%|██████████| 65/65 [00:45<00:00,  1.42it/s]\n",
      " 28%|██▊       | 28/100 [55:51<2:26:23, 122.00s/it]"
     ]
    },
    {
     "name": "stdout",
     "output_type": "stream",
     "text": [
      "Epoch: 27, Train Loss: 2.0347247912333564, Train Acc: 0.42472880390974194, Test Loss: 2.0302847385406495, Test Acc: 0.4297337334889632\n"
     ]
    },
    {
     "name": "stderr",
     "output_type": "stream",
     "text": [
      "100%|██████████| 65/65 [01:15<00:00,  1.17s/it]\n",
      "100%|██████████| 65/65 [00:45<00:00,  1.42it/s]\n",
      " 29%|██▉       | 29/100 [57:53<2:24:15, 121.91s/it]"
     ]
    },
    {
     "name": "stdout",
     "output_type": "stream",
     "text": [
      "Epoch: 28, Train Loss: 2.033017893937918, Train Acc: 0.42692308334203866, Test Loss: 2.023015524790837, Test Acc: 0.43952170381179223\n"
     ]
    },
    {
     "name": "stderr",
     "output_type": "stream",
     "text": [
      "100%|██████████| 65/65 [01:16<00:00,  1.17s/it]\n",
      "100%|██████████| 65/65 [00:46<00:00,  1.41it/s]\n",
      " 30%|███       | 30/100 [59:55<2:22:28, 122.12s/it]"
     ]
    },
    {
     "name": "stdout",
     "output_type": "stream",
     "text": [
      "Epoch: 29, Train Loss: 2.0308173986581655, Train Acc: 0.4244082891024076, Test Loss: 2.023424172401428, Test Acc: 0.43653846933291507\n"
     ]
    },
    {
     "name": "stderr",
     "output_type": "stream",
     "text": [
      "100%|██████████| 65/65 [01:16<00:00,  1.17s/it]\n",
      "100%|██████████| 65/65 [00:46<00:00,  1.40it/s]\n",
      " 31%|███       | 31/100 [1:01:58<2:20:36, 122.26s/it]"
     ]
    },
    {
     "name": "stdout",
     "output_type": "stream",
     "text": [
      "Epoch: 30, Train Loss: 2.022170615196228, Train Acc: 0.4375000073359563, Test Loss: 2.016191420188317, Test Acc: 0.44354044198989867\n"
     ]
    },
    {
     "name": "stderr",
     "output_type": "stream",
     "text": [
      "100%|██████████| 65/65 [01:16<00:00,  1.17s/it]\n",
      "100%|██████████| 65/65 [00:46<00:00,  1.39it/s]\n",
      " 32%|███▏      | 32/100 [1:04:01<2:18:50, 122.51s/it]"
     ]
    },
    {
     "name": "stdout",
     "output_type": "stream",
     "text": [
      "Epoch: 31, Train Loss: 2.020434755545396, Train Acc: 0.43937377562889685, Test Loss: 2.0135891327491175, Test Acc: 0.44642505599902227\n"
     ]
    },
    {
     "name": "stderr",
     "output_type": "stream",
     "text": [
      "100%|██████████| 65/65 [01:16<00:00,  1.17s/it]\n",
      "100%|██████████| 65/65 [00:45<00:00,  1.42it/s]\n",
      " 33%|███▎      | 33/100 [1:06:03<2:16:35, 122.33s/it]"
     ]
    },
    {
     "name": "stdout",
     "output_type": "stream",
     "text": [
      "Epoch: 32, Train Loss: 2.017528532101558, Train Acc: 0.4420364971344288, Test Loss: 2.0195578776873075, Test Acc: 0.4420364971344288\n"
     ]
    },
    {
     "name": "stderr",
     "output_type": "stream",
     "text": [
      "100%|██████████| 65/65 [01:15<00:00,  1.16s/it]\n",
      "100%|██████████| 65/65 [00:45<00:00,  1.42it/s]\n",
      " 34%|███▍      | 34/100 [1:08:04<2:14:15, 122.05s/it]"
     ]
    },
    {
     "name": "stdout",
     "output_type": "stream",
     "text": [
      "Epoch: 33, Train Loss: 2.0154272427925695, Train Acc: 0.44097634049562306, Test Loss: 2.0096019157996543, Test Acc: 0.44980276823043824\n"
     ]
    },
    {
     "name": "stderr",
     "output_type": "stream",
     "text": [
      "100%|██████████| 65/65 [01:15<00:00,  1.17s/it]\n",
      "100%|██████████| 65/65 [00:47<00:00,  1.38it/s]\n",
      " 35%|███▌      | 35/100 [1:10:07<2:12:30, 122.32s/it]"
     ]
    },
    {
     "name": "stdout",
     "output_type": "stream",
     "text": [
      "Epoch: 34, Train Loss: 2.010591670183035, Train Acc: 0.44837278723716734, Test Loss: 2.02028187421652, Test Acc: 0.44050789658839884\n"
     ]
    },
    {
     "name": "stderr",
     "output_type": "stream",
     "text": [
      "100%|██████████| 65/65 [01:15<00:00,  1.17s/it]\n",
      "100%|██████████| 65/65 [00:47<00:00,  1.36it/s]\n",
      " 36%|███▌      | 36/100 [1:12:11<2:10:56, 122.75s/it]"
     ]
    },
    {
     "name": "stdout",
     "output_type": "stream",
     "text": [
      "Epoch: 35, Train Loss: 2.0040811208578257, Train Acc: 0.455177524456611, Test Loss: 2.0028993606567385, Test Acc: 0.45981263151535623\n"
     ]
    },
    {
     "name": "stderr",
     "output_type": "stream",
     "text": [
      "100%|██████████| 65/65 [01:15<00:00,  1.17s/it]\n",
      "100%|██████████| 65/65 [00:46<00:00,  1.39it/s]\n",
      " 37%|███▋      | 37/100 [1:14:14<2:08:53, 122.75s/it]"
     ]
    },
    {
     "name": "stdout",
     "output_type": "stream",
     "text": [
      "Epoch: 36, Train Loss: 2.005321744772104, Train Acc: 0.45251479974159825, Test Loss: 1.9967976533449614, Test Acc: 0.4626232834962698\n"
     ]
    },
    {
     "name": "stderr",
     "output_type": "stream",
     "text": [
      "100%|██████████| 65/65 [01:16<00:00,  1.17s/it]\n",
      "100%|██████████| 65/65 [00:47<00:00,  1.38it/s]\n",
      " 38%|███▊      | 38/100 [1:16:17<2:07:05, 123.00s/it]"
     ]
    },
    {
     "name": "stdout",
     "output_type": "stream",
     "text": [
      "Epoch: 37, Train Loss: 2.0023802243746243, Train Acc: 0.4550049405831557, Test Loss: 2.011353892546434, Test Acc: 0.4450936977679913\n"
     ]
    },
    {
     "name": "stderr",
     "output_type": "stream",
     "text": [
      "100%|██████████| 65/65 [01:17<00:00,  1.19s/it]\n",
      "100%|██████████| 65/65 [00:56<00:00,  1.15it/s]\n",
      " 39%|███▉      | 39/100 [1:18:31<2:08:23, 126.29s/it]"
     ]
    },
    {
     "name": "stdout",
     "output_type": "stream",
     "text": [
      "Epoch: 38, Train Loss: 1.9962114370786226, Train Acc: 0.4667406375591572, Test Loss: 1.9900926773364727, Test Acc: 0.47243590354919435\n"
     ]
    },
    {
     "name": "stderr",
     "output_type": "stream",
     "text": [
      "100%|██████████| 65/65 [01:20<00:00,  1.23s/it]\n"
     ]
    }
   ],
   "source": [
    "from tqdm import tqdm\n",
    "model = Alexnet(in_channels = 3,num_classes = 10).cuda()\n",
    "train_data_loader = torch.utils.data.DataLoader(train_dataset,batch_size = 156,shuffle = True)\n",
    "test_data_loader = torch.utils.data.DataLoader(test_dataset,batch_size = 156,shuffle = True)\n",
    "train_data_loader = test_data_loader\n",
    "epochs = 100\n",
    "learning_rate = 0.00001\n",
    "loss_fn = torch.nn.CrossEntropyLoss()\n",
    "optimizer = torch.optim.Adam(model.parameters(),lr = learning_rate)\n",
    "lr_scheduler = torch.optim.lr_scheduler.StepLR(optimizer,step_size = 10,gamma = 0.1)\n",
    "# total_train_batches = \n",
    "\n",
    "# def f5_accuracy \n",
    "\n",
    "for epoch in tqdm(range(epochs)):\n",
    "    train_loss = 0\n",
    "    test_loss = 0\n",
    "    train_acc = 0\n",
    "    test_acc = 0\n",
    "    f1 = 0\n",
    "    f5 = 0\n",
    "    \n",
    "    for batch, (x,y) in enumerate(tqdm(train_data_loader)):\n",
    "        x = x.cuda()\n",
    "        y = y.cuda()\n",
    "        y_pred = model(x)\n",
    "        loss = loss_fn(y_pred,y)\n",
    "        optimizer.zero_grad()\n",
    "        loss.backward()\n",
    "        optimizer.step()\n",
    "        train_loss += loss.item()\n",
    "        train_acc += (y_pred.argmax(1) == y).type(torch.float).mean().item()\n",
    "        \n",
    "    with torch.no_grad():\n",
    "        for batch, (x,y) in enumerate(tqdm(test_data_loader)):\n",
    "            x = x.cuda()\n",
    "            y = y.cuda()\n",
    "            y_pred = model(x)\n",
    "            loss = loss_fn(y_pred,y)\n",
    "            test_loss += loss.item()\n",
    "            test_acc += (y_pred.argmax(1) == y).type(torch.float).mean().item()\n",
    "            f1 += (y_pred.argmax(1) == y).type(torch.float).mean().item()\n",
    "            \n",
    "    \n",
    "    print('Epoch: {}, Train Loss: {}, Train Acc: {}, Test Loss: {}, Test Acc: {}'.format(epoch,train_loss/len(train_data_loader),train_acc/len(train_data_loader),test_loss/len(test_data_loader),test_acc/len(test_data_loader)))"
   ]
  }
 ],
 "metadata": {
  "kernelspec": {
   "display_name": "yolo",
   "language": "python",
   "name": "python3"
  },
  "language_info": {
   "codemirror_mode": {
    "name": "ipython",
    "version": 3
   },
   "file_extension": ".py",
   "mimetype": "text/x-python",
   "name": "python",
   "nbconvert_exporter": "python",
   "pygments_lexer": "ipython3",
   "version": "3.8.12"
  },
  "orig_nbformat": 4,
  "vscode": {
   "interpreter": {
    "hash": "3181f8c7f161051a4a51059034615681098166633b62cbd671251ab6f3673bbd"
   }
  }
 },
 "nbformat": 4,
 "nbformat_minor": 2
}
